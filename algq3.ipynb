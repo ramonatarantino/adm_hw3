{
 "cells": [
  {
   "cell_type": "markdown",
   "id": "35966970",
   "metadata": {},
   "source": [
    "# Theoretical question"
   ]
  },
  {
   "cell_type": "markdown",
   "id": "fafbd415",
   "metadata": {},
   "source": [
    "An imaginary university is interested in accepting some of the applicants for positions to study the Master of Data Science there. Unfortunately, only a few spots are available, so the university requires students to take some exams. Students are then admitted based on how well they perform on these exams. For students to determine whether they have been successfully accepted to the university, the university wants to create a ranking list that includes every student's first name, last name, and total average on its course webpage. Students should be ranked in the list based on their average points in descending order. For example, if two students have the same average punctuation, they should be sorted in ascending order using their first and last names. University will give you the students' information in 'ApplicantsInfo.txt', and you should provide them with the ranking list in another .txt file and name it as 'RankingList.txt' . Kindly help this university in preparing this ranking list."
   ]
  },
  {
   "cell_type": "markdown",
   "id": "59870b79",
   "metadata": {},
   "source": [
    "Output: The output file should consist of n lines, with each line representing one of the students and including the student's first name, last name, and total average point(setting the precision to 2 decimal points). As you know, they must be sorted in the order specified in the problem description."
   ]
  },
  {
   "cell_type": "code",
   "execution_count": 2,
   "id": "2beafa5c",
   "metadata": {},
   "outputs": [],
   "source": [
    "#setting the precision to 2 decimal points\n",
    "def truncate(num, n):\n",
    "    integer = int(num * (10**n))/(10**n)\n",
    "    return float(integer)\n"
   ]
  },
  {
   "cell_type": "markdown",
   "id": "b3807e00",
   "metadata": {},
   "source": [
    "## BUBBLE SORT"
   ]
  },
  {
   "cell_type": "markdown",
   "id": "89f5760f",
   "metadata": {},
   "source": [
    "It is implemented with two nested for loops. The outermost loop performs n-1 iterations during which the innermost for loop compares each element at the j-th position with the next: if the first is greater than the second, it reverses the positions. At the end of each iteration of the innermost for loop, we will always find the largest value that will be placed at the final position.\n",
    "\n",
    "The inner loop performs O(n) comparisons deterministically.\n",
    "\n",
    "**Worst case**\n",
    "The outer loop is executed O(n) times. Consequently, the worst-case time complexity of bubble sort is O(n*n)\n",
    "\n",
    "**Average case**\n",
    "Bubble sort may require (n/2) passes and O(n) comparisons for each pass in the average case.\n",
    "Consequently, the average time complexity of the bubble sort case is O(n/2* n) = O(n^2).\n",
    "\n",
    "Other than the memory occupied by the array or list, bubble sort requires very little memory.\n",
    "Bubble sort consists of only a few lines of code.\n",
    "With a best-case running-time complexity of O(n), bubble sort is useful for determining whether or not a list is sorted. Other sorting methods often iterate through the entire sort sequence, using O(n^2) or O(n log n) to complete.\n",
    "\n",
    "The main drawback is the amount of time it takes. It is highly inefficient for large datasets, with a running time of O(n^2).\n",
    "\n",
    "\n",
    "\n"
   ]
  },
  {
   "cell_type": "code",
   "execution_count": 467,
   "id": "b9ec8c4f",
   "metadata": {},
   "outputs": [
    {
     "ename": "KeyboardInterrupt",
     "evalue": "",
     "output_type": "error",
     "traceback": [
      "\u001b[1;31m---------------------------------------------------------------------------\u001b[0m",
      "\u001b[1;31mKeyboardInterrupt\u001b[0m                         Traceback (most recent call last)",
      "Input \u001b[1;32mIn [467]\u001b[0m, in \u001b[0;36m<cell line: 1>\u001b[1;34m()\u001b[0m\n\u001b[0;32m     16\u001b[0m \u001b[38;5;28;01mfor\u001b[39;00m i \u001b[38;5;129;01min\u001b[39;00m elementnew: \n\u001b[0;32m     18\u001b[0m     sum1\u001b[38;5;241m+\u001b[39m\u001b[38;5;241m=\u001b[39m\u001b[38;5;28mint\u001b[39m(i)\n\u001b[1;32m---> 19\u001b[0m     media \u001b[38;5;241m=\u001b[39m \u001b[43mtruncate\u001b[49m\u001b[43m(\u001b[49m\u001b[43msum1\u001b[49m\u001b[38;5;241;43m/\u001b[39;49m\u001b[43mm\u001b[49m\u001b[43m,\u001b[49m\u001b[38;5;241;43m2\u001b[39;49m\u001b[43m)\u001b[49m\n\u001b[0;32m     22\u001b[0m a \u001b[38;5;241m=\u001b[39m \u001b[38;5;124m'\u001b[39m\u001b[38;5;124m \u001b[39m\u001b[38;5;124m'\u001b[39m\u001b[38;5;241m.\u001b[39mjoin(elementnew2[:\u001b[38;5;241m2\u001b[39m])\n\u001b[0;32m     23\u001b[0m lista\u001b[38;5;241m=\u001b[39m[a, \u001b[38;5;28mstr\u001b[39m(media)]\n",
      "Input \u001b[1;32mIn [443]\u001b[0m, in \u001b[0;36mtruncate\u001b[1;34m(num, n)\u001b[0m\n\u001b[0;32m      1\u001b[0m \u001b[38;5;28;01mdef\u001b[39;00m \u001b[38;5;21mtruncate\u001b[39m(num, n):\n\u001b[1;32m----> 2\u001b[0m     integer \u001b[38;5;241m=\u001b[39m \u001b[38;5;28mint\u001b[39m(num \u001b[38;5;241m*\u001b[39m (\u001b[38;5;241m10\u001b[39m\u001b[38;5;241m*\u001b[39m\u001b[38;5;241m*\u001b[39mn))\u001b[38;5;241m/\u001b[39m(\u001b[38;5;241;43m10\u001b[39;49m\u001b[38;5;241;43m*\u001b[39;49m\u001b[38;5;241;43m*\u001b[39;49m\u001b[43mn\u001b[49m)\n\u001b[0;32m      3\u001b[0m     \u001b[38;5;28;01mreturn\u001b[39;00m \u001b[38;5;28mfloat\u001b[39m(integer)\n",
      "\u001b[1;31mKeyboardInterrupt\u001b[0m: "
     ]
    }
   ],
   "source": [
    "with open(\"ApplicantsInfo.txt\", \"r\") as f:\n",
    "    score = f.readline() # Read all file in case values are not on a single line\n",
    "    score_ints = [ int(x) for x in score.split() ] # Convert strings to ints\n",
    "    m = score_ints[1]\n",
    "    line = f.readlines()\n",
    "    lista2=[] \n",
    "    for element in line: \n",
    "        \n",
    "        elementnew2 = element.split()\n",
    "        elementnew = element.split()\n",
    "        elementnew[0:2] = []\n",
    "        \n",
    "        \n",
    "        #CALCOLO MEDIA DEI VOTI\n",
    "        sum1=0\n",
    "        for i in elementnew: \n",
    "            \n",
    "            sum1+=int(i)\n",
    "            media = truncate(sum1/m,2)\n",
    "            \n",
    "          \n",
    "        a = ' '.join(elementnew2[:2])\n",
    "        lista=[a, str(media)]\n",
    "       \n",
    "        \n",
    "        lista2.append(lista)\n",
    "        \n",
    "    #BUBBLE SORT \n",
    "    \n",
    "    for i in range(0, len(lista2)):\n",
    "        for j in range(i + 1, len(lista2)):\n",
    "            if lista2[i][1] < lista2[j][1]:\n",
    "                lista2[i], lista2[j] = lista2[j], lista2[i]\n",
    "            if(lista2[i][1]== lista2[j][1]):\n",
    "                if lista2[i][0]>lista2[j][0]:\n",
    "                    temp = lista2[i]\n",
    "                    lista2[i] = lista2[j]\n",
    "                    lista2[j] = temp \n",
    "    #new file with results\n",
    "    newfile = open('RankingList5.txt', 'w')\n",
    "    for item in lista2: \n",
    "        b= (' '.join(item))\n",
    "        newfile.write(b + \"\\n\") \n",
    "\n",
    "            "
   ]
  },
  {
   "cell_type": "markdown",
   "id": "615537ef",
   "metadata": {},
   "source": [
    "## INSERTION SORT\n"
   ]
  },
  {
   "cell_type": "markdown",
   "id": "5dc0c691",
   "metadata": {},
   "source": [
    "The logic of the algorithm is to consider at each iteration an ordered sublist of length equal to the index of the outermost for loop (at the first iteration it will be formed by a single element) and an unordered sublist formed by the remaining elements of the list. At each iteration, the first element of the unordered sublist is inserted into the ordered sublist, scaling each element greater than it to the right."
   ]
  },
  {
   "cell_type": "markdown",
   "id": "d545490b",
   "metadata": {},
   "source": [
    "Spatial complexity: O(1)\n",
    "\n",
    "Time complexity: O (n), O (n * n), O (n * n) for best, average and worst case respectively.\n",
    "The two nested loops are an indication that we are dealing with quadratic effort, meaning with time complexity of O(n²)*. This is the case if both the outer and the inner loop count up to a value that increases linearly with the number of elements.With the outer loop, this is obvious as it counts up to n.\n",
    "And the inner loop we'll analyze three cases.\n",
    "The highest power of n in this term is n²; the time complexity for shifting is, therefore, O(n²). This is also called \"quadratic time\".\n",
    "In the best case the array is already sorted, in the average case the array is sorted randomly and in the worst case the array is sorted and reversed. \n",
    "\n",
    "\n",
    "**Average case** \n",
    "For comparison operations, we have one more than shift operations (or the same amount if you move an element to the far left). The time complexity for the comparison operations is, therefore, also O(n²).The element to be sorted must be placed in the correct position as often as there are elements minus those that are already in the right position – so n-1 times at maximum. Since there is no n² here, but only an n, we speak of \"linear time\", noted as O(n).\n",
    "In the best case the array is already sorted, in the medium case the array is sorted randomly and in the worst case the array is sorted and reversed. \n",
    "When considering the overall complexity, only the highest level of complexity counts. \n",
    "The average time complexity of Insertion Sort is: O(n²)\n",
    "\n",
    "\n",
    "**Worst case** \n",
    "In the worst case, the elements are sorted completely descending at the beginning. In each step, all elements of the sorted sub-array must, therefore, be shifted to the right so that the element to be sorted – which is smaller than all elements already sorted in each step – can be placed at the very beginning.Even if we have only half as many operations as in the average case, nothing changes in terms of time complexity – the term still contains n², and therefore follows:\n",
    "The worst-case time complexity of Insertion Sort is: O(n²)\n",
    "\n",
    "**Best case**\n",
    "If the elements already appear in sorted order, there is precisely one comparison in the inner loop and no swap operation at all.\n",
    "With n elements, that is, n-1 steps (since we start with the second element), we thus come to n-1 comparison operations. Therefore: the best-case time complexity of Insertion Sort is: O(n)"
   ]
  },
  {
   "cell_type": "code",
   "execution_count": 517,
   "id": "26aef745",
   "metadata": {},
   "outputs": [],
   "source": [
    "with open(\"ApplicantsInfo.txt\", \"r\") as f:\n",
    "    score = f.readline() # Read all file in case values are not on a single line\n",
    "    score_ints = [ int(x) for x in score.split() ] # Convert strings to ints\n",
    "    m = score_ints[1]\n",
    "    line = f.readlines()\n",
    "    lista2=[]\n",
    "    for element in line: \n",
    "        \n",
    "        elementnew2 = element.split()\n",
    "        elementnew = element.split()\n",
    "        elementnew[0:2] = []\n",
    "        \n",
    "        sum1=0\n",
    "        for i in elementnew: \n",
    "            \n",
    "            sum1+=int(i)\n",
    "            media = truncate(sum1/m,2) \n",
    "        a = ' '.join(elementnew2[:2])\n",
    "        lista=[a, str(media)]\n",
    "        lista2.append(lista)\n",
    "    #print(lista2)\n",
    "    #print(sorted(lista2, key=itemgetter(1), reverse =True))\n",
    "    for i in range(1, len(lista2)): \n",
    "        keyitem= lista2[i]\n",
    "        j=i-1\n",
    "        while j >= 0 and lista2[j][1] <= keyitem[1] :\n",
    "                if(keyitem[1]== lista2[j][1]):\n",
    "                    if keyitem[0]>lista2[j][0]:\n",
    "                        temp = keyitem\n",
    "                        keyitem = lista2[j]\n",
    "                        lista2[j] = temp\n",
    "                \n",
    "                lista2[j+1]=lista2[j]\n",
    "                j -= 1\n",
    "                \n",
    "        lista2[j+1] =keyitem\n",
    "            \n",
    "                    \n",
    "    \n",
    "    newfile = open('RankingList6.txt', 'w')\n",
    "    for item in lista2: \n",
    "        b= (' '.join(item))\n",
    "        newfile.write(b + \"\\n\")"
   ]
  },
  {
   "cell_type": "markdown",
   "id": "19e5724d",
   "metadata": {},
   "source": [
    "## Selection sort\n"
   ]
  },
  {
   "cell_type": "markdown",
   "id": "03197c98",
   "metadata": {},
   "source": [
    "The Selection Sort algorithm is implemented by nesting two nested for loops. Each element at the current index position, of the outermost loop, is placed in a \"minimum\" variable. It will be compared with the following elements of the list, during the innermost for loop, which, every time it finds a value smaller than the considered element, updates the \"minimum\" variable. At the end of the iteration, the positions of the element pointed to by the index of the first for and the minimum value found are swapped. \n",
    "\n",
    "The time complexity of the worst case is: O(n^2)\n",
    "The time complexity of the average case is: O(n^2)\n",
    "The time complexity of the best case is: O(n^2)\n",
    "\n",
    "The number of trades in Selection Sort is as follows:\n",
    "\n",
    "Worst case: O(N)\n",
    "Average case: O(N)\n",
    "Best case: O(1)\n",
    "\n",
    "The **worst case** is when the array is already sorted (with a swap) but the smallest element is the last element.The cost here is that a trade is made with each pass. This is because the smallest element will always be the last element and the swapped element that is kept at the end will be the second smallest element which is the smallest element of the new unsorted subarray. The worst case therefore has:\n",
    "\n",
    "N * (N+1) / 2 comparisons\n",
    "No exchanges\n",
    "Thus, the time complexity is O(N^2).\n",
    "\n",
    "The **best case** is when the array is already sorted.\n",
    "This is the best case as we can avoid swapping at each step but the time taken to find the smallest element is still O(N). The best case therefore has:\n",
    "\n",
    "N * (N+1) / 2 comparisons\n",
    "0 exchanges\n",
    "Only the number of trades has changed. Thus, the time complexity is O(N^2).\n",
    "\n",
    "Based on the worst case and the best case, we know that the number of comparisons will be the same for each case and therefore, even for the **average case**, the number of comparisons will be constant.\n",
    "\n",
    "Number of comparisons = N * (N+1) / 2\n",
    "\n",
    "Therefore, the time complexity will be O(N^2).\n"
   ]
  },
  {
   "cell_type": "code",
   "execution_count": 569,
   "id": "9329f621",
   "metadata": {},
   "outputs": [],
   "source": [
    "with open(\"ApplicantsInfo.txt\", \"r\") as f:\n",
    "    score = f.readline() # Read all file in case values are not on a single line\n",
    "    score_ints = [ int(x) for x in score.split() ] # Convert strings to ints\n",
    "    m = score_ints[1]\n",
    "    line = f.readlines()\n",
    "    lista2=[]\n",
    "    for element in line: \n",
    "        \n",
    "        elementnew2 = element.split()\n",
    "        elementnew = element.split()\n",
    "        elementnew[0:2] = []\n",
    "        \n",
    "        sum1=0\n",
    "        for i in elementnew: \n",
    "            \n",
    "            sum1+=int(i)\n",
    "            media = truncate(sum1/m,2) \n",
    "        a = ' '.join(elementnew2[:2])\n",
    "        lista=[a, str(media)]\n",
    "        lista2.append(lista)\n",
    "    #print(lista2)\n",
    "    #print(sorted(lista2, key=itemgetter(1), reverse =True))\n",
    "    len1 = len(lista2)\n",
    "    for step in range(len1):\n",
    "        min_idx = step \n",
    "        for i in range(step+1, len1):\n",
    "            if lista2[i][1]> lista2[min_idx][1]:\n",
    "                min_idx =i \n",
    "            if(lista2[i][1]== lista2[min_idx][1]):\n",
    "                    if lista2[i][0] < lista2[min_idx][0]:\n",
    "                        temp = lista2[i]\n",
    "                        lista2[i] = lista2[min_idx]\n",
    "                        lista2[min_idx] = temp\n",
    "        (lista2[step], lista2[min_idx]) = (lista2[min_idx], lista2[step])\n",
    "            \n",
    "                    \n",
    "    \n",
    "    newfile = open('RankingList7.txt', 'w')\n",
    "    for item in lista2: \n",
    "        b= (' '.join(item))\n",
    "        newfile.write(b + \"\\n\")"
   ]
  },
  {
   "cell_type": "markdown",
   "id": "77238f74",
   "metadata": {},
   "source": [
    "## ALGORITMO CON IN BUILT FUNCTION"
   ]
  },
  {
   "cell_type": "markdown",
   "id": "de8cbd30",
   "metadata": {},
   "source": [
    "### Evaluate the time taken for each of your implementations to answer the query stored in the ApplicantsInfo.txt file and visualize them."
   ]
  },
  {
   "cell_type": "code",
   "execution_count": 86,
   "id": "a0c1f6b1",
   "metadata": {},
   "outputs": [
    {
     "name": "stdout",
     "output_type": "stream",
     "text": [
      "Running time selection sort 383.524113 s\n",
      "Running time bubble sort 334.033243 s\n",
      "Running time insertion sort 10.990665 s\n"
     ]
    }
   ],
   "source": [
    "import timeit\n",
    "import os\n",
    "with open(\"ApplicantsInfo.txt\", \"r\") as f:\n",
    "    score = f.readline() \n",
    "    score_ints = [ int(x) for x in score.split() ] \n",
    "    m = score_ints[1]\n",
    "    line = f.readlines()\n",
    "    lista2=[]\n",
    "    for element in line: \n",
    "        \n",
    "        elementnew2 = element.split()\n",
    "        elementnew = element.split()\n",
    "        elementnew[0:2] = []\n",
    "        \n",
    "        sum1=0\n",
    "        for i in elementnew: \n",
    "            \n",
    "            sum1+=int(i)\n",
    "            media = truncate(sum1/m,2) \n",
    "        a = ' '.join(elementnew2[:2])\n",
    "        lista=[a, str(media)]\n",
    "        lista2.append(lista)\n",
    "    \n",
    "    def selectionsort(lista2):\n",
    "        len1 = len(lista2)\n",
    "        for step in range(len1):\n",
    "            min_idx = step \n",
    "            for i in range(step+1, len1):\n",
    "                if lista2[i][1]> lista2[min_idx][1]:\n",
    "                    min_idx =i \n",
    "                if(lista2[i][1]== lista2[min_idx][1]):\n",
    "                        if lista2[i][0] < lista2[min_idx][0]:\n",
    "                            temp = lista2[i]\n",
    "                            lista2[i] = lista2[min_idx]\n",
    "                            lista2[min_idx] = temp\n",
    "            (lista2[step], lista2[min_idx]) = (lista2[min_idx], lista2[step])\n",
    "        return lista2\n",
    "\n",
    "    def bubblesort(lista2):\n",
    "        for i in range(0, len(lista2)):\n",
    "            for j in range(i + 1, len(lista2)):\n",
    "                if lista2[i][1] < lista2[j][1]:\n",
    "                    lista2[i], lista2[j] = lista2[j], lista2[i]\n",
    "                if(lista2[i][1]== lista2[j][1]):\n",
    "                    if lista2[i][0]>lista2[j][0]:\n",
    "                        temp = lista2[i]\n",
    "                        lista2[i] = lista2[j]\n",
    "                        lista2[j] = temp \n",
    "        return lista2\n",
    "    def insertionsort(lista2):\n",
    "        for i in range(1, len(lista2)): \n",
    "            keyitem= lista2[i]\n",
    "            j=i-1\n",
    "            while j >= 0 and lista2[j][1] <= keyitem[1] :\n",
    "                    if(keyitem[1]== lista2[j][1]):\n",
    "                        if keyitem[0]>lista2[j][0]:\n",
    "                            temp = keyitem\n",
    "                            keyitem = lista2[j]\n",
    "                            lista2[j] = temp\n",
    "\n",
    "                    lista2[j+1]=lista2[j]\n",
    "                    j -= 1\n",
    "\n",
    "            lista2[j+1] =keyitem\n",
    "        return lista2\n",
    "\n",
    "selectionsort(lista2)\n",
    "bubblesort(lista2)\n",
    "insertionsort(lista2)\n",
    "\n",
    "\n",
    "t = timeit.timeit(lambda : selectionsort(lista2) ,number= 1)\n",
    "print(\"Running time selection sort\", \"{0:.6f}\".format(t), \"s\")\n",
    "\n",
    "t1 = timeit.timeit(lambda : bubblesort(lista2) ,number= 1)\n",
    "print(\"Running time bubble sort\", \"{0:.6f}\".format(t1), \"s\")\n",
    "\n",
    "t2 = timeit.timeit(lambda : insertionsort(lista2) ,number= 1)\n",
    "print(\"Running time insertion sort\", \"{0:.6f}\".format(t2), \"s\")\n",
    "\n"
   ]
  },
  {
   "cell_type": "markdown",
   "id": "8ed509ee",
   "metadata": {},
   "source": [
    "### What is the most optimal algorithm, in your opinion, and why?"
   ]
  },
  {
   "cell_type": "markdown",
   "id": "3df9f50d",
   "metadata": {},
   "source": [
    "On average, the bubble sort performs poorly compared to the insertion sort. Due to the high number of swaps, it’s expected to generate twice as many write operations and twice as many cache misses. Both have similar runtime complexities. However, for larger datasets, the bubble sort algorithm becomes slower.\n",
    "Selection sort generally performs worse than insertion sort.\n",
    "It doesn’t adapt to data and always performs a quadratic number of comparisons.\n",
    "However, it moves each element at most once.The main difference between insertion sort and selection sort is that insertion sort performs sorting by exchanging an element at a time with the partially sorted array while selection sort performs sorting by selecting the smallest element from the remaining elements and exchanging it with the element in the correct location.\n",
    "All in all, insertion sort performs better in most cases. Consequently, it is more popular in textbooks and in real life."
   ]
  },
  {
   "cell_type": "markdown",
   "id": "0b30058d",
   "metadata": {},
   "source": [
    "### Implement a sorting algorithm using MapReduce and compare it against the three algorithms previously implemented using the ApplicantsInfo.txt file."
   ]
  },
  {
   "cell_type": "code",
   "execution_count": 66,
   "id": "3bee2bd8",
   "metadata": {},
   "outputs": [
    {
     "name": "stdout",
     "output_type": "stream",
     "text": [
      "[['Arthur Richardson', '23.76'], ['Ashley Hoeck', '24.13'], ['Carla Frazier', '23.95'], ['Dale Baker', '23.93'], ['Debra Amato', '23.99'], ['Delbert Nakano', '24.07'], ['Don Shoe', '23.91'], ['Doreen Rogers', '23.87'], ['Dorothy Halloran', '23.69'], ['Edna Walbridge', '24.15'], ['Edwin Borders', '23.9'], ['Francis Lomax', '23.94'], ['Freda Brehm', '23.95'], ['Gene Gold', '23.97'], ['Homer Matthews', '23.93'], ['Janie Delgado', '23.85'], ['Janine Beaty', '23.91'], ['Jason Cook', '24.02'], ['John Salinas', '23.97'], ['Joseph Clay', '24.16'], ['Leonard Buck', '24.26'], ['Louise Davis', '23.73'], ['Margaret Dolphin', '24.04'], ['Martha Piercy', '23.79'], ['Mary Brothers', '23.99'], ['Melanie James', '23.86'], ['Michael Ritter', '23.99'], ['Otis Hicks', '23.98'], ['Paula Ahmadi', '24.01'], ['Ralph Newhouse', '23.71'], ['Richard Scott', '23.83'], ['Richard Yaple', '24.14'], ['Robert White', '23.87'], ['Ruth Ortega', '23.78'], ['Shelley Tuttle', '23.84'], ['Stephanie Carpenter', '24.1'], ['Stephanie Ibrahim', '24.05'], ['Thomas Champion', '24.08'], ['Trudy Hyatt', '24.02'], ['Viola Tallman', '23.97'], ['Vonda Duncan', '24.19'], ['William Bland', '24.06'], ['William Webster', '23.92']]\n"
     ]
    }
   ],
   "source": [
    "from operator import itemgetter\n",
    "with open(\"prova3.txt\", \"r\") as f:\n",
    "    score = f.readline() # Read all file in case values are not on a single line\n",
    "    score_ints = [ int(x) for x in score.split() ] # Convert strings to ints\n",
    "    m = score_ints[1]\n",
    "    line = f.readlines()\n",
    "    lista2=[]\n",
    "    for element in line: \n",
    "        \n",
    "        elementnew2 = element.split()\n",
    "        elementnew = element.split()\n",
    "        elementnew[0:2] = []\n",
    "        \n",
    "        sum1=0\n",
    "        for i in elementnew: \n",
    "            \n",
    "            sum1+=int(i)\n",
    "            media = truncate(sum1/m,2) \n",
    "        a = ' '.join(elementnew2[:2])\n",
    "        lista=[a, str(media)]\n",
    "        lista2.append(lista)\n",
    "    #print(lista2)\n",
    "    lista2 = sorted(lista2, key=lambda tup: tup[1], reverse = True) \n",
    "    for i in range(0, len(lista2)-1):\n",
    "        if(lista2[i][1]== lista2[i+1][1]):\n",
    "            lista2 = sorted(lista2, key=lambda tup: tup[0])              \n",
    "    print(lista2)"
   ]
  }
 ],
 "metadata": {
  "kernelspec": {
   "display_name": "Python 3 (ipykernel)",
   "language": "python",
   "name": "python3"
  },
  "language_info": {
   "codemirror_mode": {
    "name": "ipython",
    "version": 3
   },
   "file_extension": ".py",
   "mimetype": "text/x-python",
   "name": "python",
   "nbconvert_exporter": "python",
   "pygments_lexer": "ipython3",
   "version": "3.9.12"
  }
 },
 "nbformat": 4,
 "nbformat_minor": 5
}
